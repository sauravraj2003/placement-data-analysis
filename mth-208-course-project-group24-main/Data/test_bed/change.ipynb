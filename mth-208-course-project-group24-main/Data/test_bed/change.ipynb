{
 "cells": [
  {
   "cell_type": "code",
   "execution_count": 1,
   "metadata": {},
   "outputs": [],
   "source": [
    "import pandas as pd\n",
    "\n",
    "# Load the Excel file\n",
    "file_path = 'branches.xlsx'\n",
    "excel_data = pd.ExcelFile(file_path)\n"
   ]
  },
  {
   "cell_type": "code",
   "execution_count": 8,
   "metadata": {},
   "outputs": [
    {
     "name": "stdout",
     "output_type": "stream",
     "text": [
      "Unique values before replacement: ['Aerospace Engineering', 'Biological Sciences and Bioengineering', 'Chemical Engineering', 'Chemistry', 'Civil Engineering', 'Computer Science and Engineering', 'Earth Science', 'Economics', 'Electrical Engineering', 'Materials Science and Engineering', 'Mathematics and Scientific Computing', 'Mathematics and Statistics', 'Mechanical Engineering', 'Physics']\n",
      "Aerospace Engineering   BT-AE\n",
      "Biological Sciences and Bioengineering   BT-BSBE\n",
      "Chemical Engineering   BT-CHE\n",
      "Chemistry   BS-CHM\n",
      "Civil Engineering   BT-CE\n",
      "Computer Science and Engineering   BT-CSE\n",
      "Earth Science   BS-ES\n",
      "Economics   BS-ECO\n",
      "Electrical Engineering   BT-EE\n",
      "Materials Science and Engineering   BT-MSE\n",
      "Mathematics and Scientific Computing   BS-MTH\n",
      "Mathematics and Statistics   BS-MTH\n",
      "Mechanical Engineering   BT-ME\n",
      "Physics   BS-PHY\n"
     ]
    }
   ],
   "source": [
    "\n",
    "# Load a specific sheet (e.g., 'Sheet1')\n",
    "df = excel_data.parse('CPI')\n",
    "\n",
    "# Display unique values in the 'Department' column (for example)\n",
    "unique_values = df['Department'].unique()\n",
    "print(\"Unique values before replacement:\", sorted(unique_values))\n",
    "store = sorted(unique_values)\n",
    "val = ['BT-AE','BT-BSBE','BT-CHE','BS-CHM','BT-CE', 'BT-CSE','BS-ES','BS-ECO','BT-EE','BT-MSE','BS-MTH','BS-MTH','BT-ME','BS-PHY',]\n",
    "# Create a dictionary with old values as keys and new values as replacements\n",
    "for i in range(len(val)):\n",
    "    print(store[i], \" \", val[i])"
   ]
  },
  {
   "cell_type": "code",
   "execution_count": 20,
   "metadata": {},
   "outputs": [
    {
     "name": "stdout",
     "output_type": "stream",
     "text": [
      "\"BT-AE\", \"BT-BSBE\", \"BT-CHE\", \"BS-CHM\", \"BT-CE\", \"BT-CSE\", \"BS-ES\", \"BS-ECO\", \"BT-EE\", \"BT-MSE\", \"BS-MTH\", \"BS-MTH\", \"BT-ME\", \"BS-PHY\", "
     ]
    }
   ],
   "source": [
    "# values = {}\n",
    "for i in range(len(store)):\n",
    "    # values[store[i]] = val[i]\n",
    "    # print(f\"\\\"{store[i]}\\\",\", end = \"\")\n",
    "    print(f\"\\\"{val[i]}\\\", \", end = \"\")\n",
    "# df['Department'].replace(values)\n",
    "# output_path = 'updated_file.csv'\n",
    "# df.to_csv(output_path, index=False)\n"
   ]
  }
 ],
 "metadata": {
  "kernelspec": {
   "display_name": "Python 3",
   "language": "python",
   "name": "python3"
  },
  "language_info": {
   "codemirror_mode": {
    "name": "ipython",
    "version": 3
   },
   "file_extension": ".py",
   "mimetype": "text/x-python",
   "name": "python",
   "nbconvert_exporter": "python",
   "pygments_lexer": "ipython3",
   "version": "3.10.12"
  }
 },
 "nbformat": 4,
 "nbformat_minor": 2
}
